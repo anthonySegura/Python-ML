{
  "metadata": {
    "kernelspec": {
      "display_name": "Python 3",
      "language": "python",
      "name": "python3"
    },
    "language_info": {
      "codemirror_mode": {
        "name": "ipython",
        "version": 3
      },
      "file_extension": ".py",
      "mimetype": "text/x-python",
      "name": "python",
      "nbconvert_exporter": "python",
      "pygments_lexer": "ipython3",
      "version": "3.6.0"
    }
  },
  "nbformat": 4,
  "nbformat_minor": 0,
  "cells": [
    {
      "cell_type": "markdown",
      "source": "#",
      "metadata": {}
    },
    {
      "cell_type": "code",
      "source": "from subprocess import check_output\nimport numpy as np # linear algebra\nimport pandas as pd # data processing, CSV file I/O (e.g. pd.read_csv)\nimport warnings \nwarnings.filterwarnings('ignore')\nfrom math import ceil\n#Plots\nimport matplotlib.pyplot as plt\nimport seaborn as sb\nfrom sklearn.metrics import confusion_matrix #Confusion matrix\nfrom pandas.tools.plotting import parallel_coordinates\n#Advanced optimization\nfrom scipy import optimize as op\n\n#Load Data\niris = pd.read_csv('../input/Iris.csv')\niris.head()",
      "execution_count": null,
      "outputs": [],
      "metadata": {}
    },
    {
      "cell_type": "code",
      "source": "#Visualizations\n\n#Plot with respect to sepal length\nsepalPlt = sb.FacetGrid(iris, hue=\"Species\", size=6) \\\n   .map(plt.scatter, \"SepalLengthCm\", \"SepalWidthCm\")\nplt.legend(loc='upper left')",
      "execution_count": null,
      "outputs": [],
      "metadata": {}
    },
    {
      "cell_type": "code",
      "source": "#plot with respect to petal length\npetalPlt = sb.FacetGrid(iris, hue=\"Species\", size=6) \\\n   .map(plt.scatter, \"PetalLengthCm\", \"PetalWidthCm\")\nplt.legend(loc='upper left')",
      "execution_count": null,
      "outputs": [],
      "metadata": {}
    },
    {
      "cell_type": "code",
      "source": "#Sepal and Petal lengths\nparallel_coordinates(iris.drop(\"Id\", axis=1), \"Species\")",
      "execution_count": null,
      "outputs": [],
      "metadata": {}
    },
    {
      "cell_type": "code",
      "source": "#Data setup\n\nSpecies = ['Iris-setosa', 'Iris-versicolor', 'Iris-virginica']\n#Number of examples\nm = iris.shape[0]\n#Features\nn = 4\n#Number of classes\nk = 3\n\nX = np.zeros((m,n + 1))\ny = np.array((m,1))\nX[:,1] = iris['PetalLengthCm'].values\nX[:,2] = iris['PetalWidthCm'].values\nX[:,3] = iris['SepalLengthCm'].values\nX[:,4] = iris['SepalWidthCm'].values\n\n#Mean normalization\nfor j in range(n):\n    X[:, j] = (X[:, j] - X[:,j].mean())\n\n#Labels\ny = iris['Species'].values",
      "execution_count": null,
      "outputs": [],
      "metadata": {}
    },
    {
      "cell_type": "markdown",
      "source": "#Regularized Cost function and gradient\n\n![#Regularized Cost][1]\n\n![#Regularized Gradient][2]\n\n\n  [1]: http://i.imgur.com/id7nVp6.png\n  [2]: http://i.imgur.com/7x8omie.png",
      "metadata": {}
    },
    {
      "cell_type": "code",
      "source": "#Logistic Regression\n\ndef sigmoid(z):\n    return 1.0 / (1 + np.exp(-z))\n\n#Regularized cost function\ndef regCostFunction(theta, X, y, _lambda = 0.1):\n    m = len(y)\n    h = sigmoid(X.dot(theta))\n    tmp = np.copy(theta)\n    tmp[0] = 0 \n    reg = (_lambda/(2*m)) * np.sum(tmp**2)\n\n    return (1 / m) * (-y.T.dot(np.log(h)) - (1 - y).T.dot(np.log(1 - h))) + reg\n\n#Regularized gradient function\ndef regGradient(theta, X, y, _lambda = 0.1):\n    m, n = X.shape\n    theta = theta.reshape((n, 1))\n    y = y.reshape((m, 1))\n    h = sigmoid(X.dot(theta))\n    tmp = np.copy(theta)\n    tmp[0] = 0\n    reg = _lambda*tmp /m\n\n    return ((1 / m) * X.T.dot(h - y)) + reg\n\n#Optimal theta \ndef logisticRegression(X, y, theta):\n    result = op.minimize(fun = regCostFunction, x0 = theta, args = (X, y),\n                         method = 'TNC', jac = regGradient)\n    \n    return result.x",
      "execution_count": null,
      "outputs": [],
      "metadata": {}
    },
    {
      "cell_type": "code",
      "source": "#Training\n\nall_theta = np.zeros((k, n + 1))\n\n#One vs all\ni = 0\nfor flower in Species:\n    #set the labels in 0 and 1\n    tmp_y = np.array(y == flower, dtype = int)\n    optTheta = logisticRegression(X, tmp_y, np.zeros((n + 1,1)))\n    all_theta[i] = optTheta\n    i += 1",
      "execution_count": null,
      "outputs": [],
      "metadata": {}
    },
    {
      "cell_type": "code",
      "source": "#Predictions\nP = sigmoid(X.dot(all_theta.T)) #probability for each flower\np = [Species[np.argmax(P[i, :])] for i in range(m)]\n\n#true positives\ntp = sum(np.array(p == y, dtype = int))\n\nprint('Train Accuracy ', (tp / m) * 100, '%')",
      "execution_count": null,
      "outputs": [],
      "metadata": {}
    },
    {
      "cell_type": "code",
      "source": "#Confusion Matrix\ncfm = confusion_matrix(y, p, labels = Species)\n\nsb.heatmap(cfm, annot = True, xticklabels = Species, yticklabels = Species)",
      "execution_count": null,
      "outputs": [],
      "metadata": {}
    }
  ]
}